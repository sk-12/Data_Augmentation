{
 "cells": [
  {
   "cell_type": "code",
   "execution_count": 10,
   "metadata": {
    "colab": {},
    "colab_type": "code",
    "id": "d_jL8_4i0eNh"
   },
   "outputs": [],
   "source": [
    "#import the important liibraries\n",
    "from keras.preprocessing.image import ImageDataGenerator,array_to_img,img_to_array"
   ]
  },
  {
   "cell_type": "code",
   "execution_count": 11,
   "metadata": {
    "colab": {},
    "colab_type": "code",
    "id": "uNHPcYSpAqrV"
   },
   "outputs": [],
   "source": [
    "#create an object \n",
    "datagen=ImageDataGenerator(width_shift_range=0.2,vertical_flip=True,height_shift_range=0.2,shear_range=0.4,rotation_range=40)"
   ]
  },
  {
   "cell_type": "code",
   "execution_count": 12,
   "metadata": {
    "colab": {},
    "colab_type": "code",
    "id": "YYsZE2VFBPbL"
   },
   "outputs": [],
   "source": [
    "#load the image \n",
    "from keras.preprocessing.image import load_img\n",
    "dimage=load_img(r'image_needed_to_be_augmented.jpg')"
   ]
  },
  {
   "cell_type": "code",
   "execution_count": 15,
   "metadata": {
    "colab": {},
    "colab_type": "code",
    "id": "koNrtTUUBbVS"
   },
   "outputs": [
    {
     "data": {
      "text/plain": [
       "(125, 83, 3)"
      ]
     },
     "execution_count": 15,
     "metadata": {},
     "output_type": "execute_result"
    }
   ],
   "source": [
    "#convert the image into array\n",
    "x=img_to_array(dimage)\n",
    "x.shape"
   ]
  },
  {
   "cell_type": "code",
   "execution_count": 16,
   "metadata": {
    "colab": {},
    "colab_type": "code",
    "id": "lj959GUzB1br"
   },
   "outputs": [],
   "source": [
    "#the flow function takes a 4d numpy array so we reshape it using reshape function\n",
    "x=x.reshape((1,)+x.shape)\n"
   ]
  },
  {
   "cell_type": "code",
   "execution_count": 17,
   "metadata": {
    "colab": {
     "base_uri": "https://localhost:8080/",
     "height": 391
    },
    "colab_type": "code",
    "id": "X-AUDPa4CJOP",
    "outputId": "e4093e26-ca42-4d02-d408-d3505aa3accd"
   },
   "outputs": [],
   "source": [
    "#now start the process\n",
    "i=0\n",
    "for batch in datagen.flow(x,batch_size=1,save_prefix='cat',save_to_dir=r'directory_to_which_you_want_to_save',save_format='jpeg'):\n",
    "  i=i+1\n",
    "  if i>20:\n",
    "    break\n"
   ]
  },
  {
   "cell_type": "code",
   "execution_count": null,
   "metadata": {
    "colab": {},
    "colab_type": "code",
    "id": "BaSw99zYCkup"
   },
   "outputs": [],
   "source": []
  },
  {
   "cell_type": "markdown",
   "metadata": {
    "colab_type": "text",
    "id": "Co1YsaGUCpSy"
   },
   "source": [
    "# New Section"
   ]
  }
 ],
 "metadata": {
  "colab": {
   "name": "Untitled6.ipynb",
   "provenance": [],
   "toc_visible": true
  },
  "kernelspec": {
   "display_name": "Python 3",
   "language": "python",
   "name": "python3"
  },
  "language_info": {
   "codemirror_mode": {
    "name": "ipython",
    "version": 3
   },
   "file_extension": ".py",
   "mimetype": "text/x-python",
   "name": "python",
   "nbconvert_exporter": "python",
   "pygments_lexer": "ipython3",
   "version": "3.7.6"
  }
 },
 "nbformat": 4,
 "nbformat_minor": 1
}
